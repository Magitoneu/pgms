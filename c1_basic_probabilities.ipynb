{
 "cells": [
  {
   "cell_type": "markdown",
   "metadata": {},
   "source": [
    "<center><h1>C1: Probability</h1></center>\n",
    "\n",
    "In this notebook, we introduce the basic ideas of probability used in PGMs. \n",
    "\n",
    "Step by step, we will combine the different basic concepts and theorems to build a Bayesian network.\n",
    "\n",
    "Let us consider a random variable $B$ with a set of possible values in $\\Omega_B$. The marginal probability distribution of a variable $B$ can be saved in an array of length equal to $|\\Omega_B|$ and has to sum up to one:"
   ]
  },
  {
   "cell_type": "code",
   "execution_count": null,
   "metadata": {},
   "outputs": [],
   "source": [
    "import numpy as np\n",
    "\n",
    "pB = np.array([0.6,0.25,0.15])\n",
    "\n",
    "print('Is P(B) a proper probability distribution?', np.sum(pB)==1 )"
   ]
  },
  {
   "cell_type": "markdown",
   "metadata": {},
   "source": [
    "\n",
    "Saving a conditional distribution $P(A|B)$ requires a matrix of size $|\\omega_A| \\times |\\omega_B|$. It is, in fact, a family of probability distributions: there is a probability distribution over the possible values of $A$ for each instantiation of the conditioning part ($B$, in this case). Assuming that $|\\omega_A|=2$, one could save it as:\n"
   ]
  },
  {
   "cell_type": "code",
   "execution_count": null,
   "metadata": {},
   "outputs": [],
   "source": [
    "pAB = np.matrix([[0.8,0.3,0.5], \n",
    "                 [ ### YOUR CODE HERE ###\n",
    "                 ]])\n",
    "\n",
    "print('Is P(A|B) a proper famility of probability distributions?', np.all(np.sum(pAB,axis=0)==1))"
   ]
  },
  {
   "cell_type": "markdown",
   "metadata": {},
   "source": [
    "\n",
    "Let us assume that $B$ measures the height of people (0: small, 1:medium-size, 2:tall), and $A$ is a variable that represents Sex (0:Female, 1:Male). We can use $p(B)$ and $p(A|B)$ to know the probability of an individual being a woman or a man given its height.\n",
    "\n",
    "Given $P(A|B)$ and $P(B)$, we can calculate the marginal probability of $P(A)$ by integrating out $P(B)$. That is, the probability of any randomly-taken individual being a woman or a man. This process, called <b>marginalization</b>, involves the sum, for each value $a\\in A$, of the marginal probability of all the values $b$ of $B$, $p(B=b)$, times the conditional probability of $A$ given $B$, $p(A=a|B=b)$. This calculation can be expressed in a single line as:\n"
   ]
  },
  {
   "cell_type": "code",
   "execution_count": null,
   "metadata": {},
   "outputs": [],
   "source": [
    "########################\n",
    "#### YOUR CODE HERE ####\n",
    "# pA = \n",
    "########################\n",
    "\n",
    "print(\"Marginal probability distribution of A:\", np.round(pA,3))"
   ]
  },
  {
   "cell_type": "markdown",
   "metadata": {},
   "source": [
    "\n",
    "We can also apply the Bayes rule to obtain the probability distribution of $P(B|A=1)$, that is, the probability of the different heights given that our individual is a man,\n"
   ]
  },
  {
   "cell_type": "code",
   "execution_count": null,
   "metadata": {},
   "outputs": [],
   "source": [
    "iA = 1 # Our individual is a man\n",
    "\n",
    "########################\n",
    "#### YOUR CODE HERE ####\n",
    "# pBA = \n",
    "# pBA /= sum(pBA)\n",
    "########################\n",
    "\n",
    "print(\"Conditional probability distribution of B given A =\" , iA , \"is:\" , np.round(pBA,3))\n"
   ]
  },
  {
   "cell_type": "markdown",
   "metadata": {},
   "source": [
    "\n",
    "Try also how it looks the probability distribution for a woman.\n",
    "\n",
    "So far, to save a probability distribution we consider all the values. However, we have learnt that not all those parameters are necessary. \n"
   ]
  },
  {
   "cell_type": "code",
   "execution_count": null,
   "metadata": {},
   "outputs": [],
   "source": [
    "pAB = np.array([0.8,0.3,0.5])\n",
    "pB = np.array([\n",
    "   #### YOUR CODE HERE #### \n",
    "]) \n",
    "iA = 1\n",
    "\n",
    "########################\n",
    "#### YOUR CODE HERE ####\n",
    "#### Marginalization ###\n",
    "# pA = \n",
    "########## and #########\n",
    "###### Bayes rule ######\n",
    "# pBA = \n",
    "# pBA /= np.sum(pBA)\n",
    "########################\n",
    "\n",
    "print(\"Marginal probability distribution of A:\" , np.round(pA,3))\n",
    "\n",
    "print(\"Conditional probability distribution of B given A =\" , iA , \"is:\" , np.round(pBA,3))\n"
   ]
  },
  {
   "cell_type": "markdown",
   "metadata": {},
   "source": [
    "\n",
    "These are considered the <b>sufficient statistics</b>. \n",
    "You can obtain the same results as before but using just the sufficient statistics of this model.\n"
   ]
  },
  {
   "cell_type": "markdown",
   "metadata": {},
   "source": [
    "\n",
    "Let us consider also the utility of the <b>chain rule</b>. By means of this operation, a large table of a joint probability can be replaced by multiple smaller tables. For a set of three variables, this can be written as follow:\n",
    "\n",
    "$$p(X,Y,Z)=p(X|Y,Z)\\cdot p(Y,Z)=p(X|Y,Z)\\cdot p(Y|Z)\\cdot p(Z)$$\n",
    "\n",
    "Given a full table for the joint probability distribution of $X,Y,Z$, we can obtain the CPDs of $X$, $Y$ and $Z$ given a fixed order. Let us define a joint distribution:"
   ]
  },
  {
   "cell_type": "code",
   "execution_count": null,
   "metadata": {},
   "outputs": [],
   "source": [
    "import pandas as pd\n",
    "\n",
    "np.random.seed(17)\n",
    "cards = [3,2,3]\n",
    "probs = np.random.rand(np.prod(cards))\n",
    "probs /= np.sum(probs)\n",
    "\n",
    "p = pd.DataFrame(np.transpose([np.repeat([0,1,2],np.prod(cards[1:3])),\n",
    "                               np.tile([0,0,0,1,1,1],cards[0]),\n",
    "                               np.tile([0,1,2],np.prod(cards[0:2])),\n",
    "                               probs\n",
    "                              ]),columns=['X','Y','Z','Pr'])\n",
    "\n",
    "print('Table of the joint probability distribution, p(X,Y,Z):')\n",
    "print(p)"
   ]
  },
  {
   "cell_type": "markdown",
   "metadata": {},
   "source": [
    "\n",
    "If we use the ordering $(Z,Y,X)$, one can firstly the CPD of $X|Y,Z$ by considering a probability distribution over $\\omega_X$ given all the possible combinations of value of $Y$ and $Z$:\n"
   ]
  },
  {
   "cell_type": "code",
   "execution_count": null,
   "metadata": {},
   "outputs": [],
   "source": [
    "pcX = [ [np.sum(p.loc[ np.logical_and(p.X==x,np.logical_and(p.Y==y,p.Z==z)),\n",
    "                      'Pr']) for x in np.arange(cards[0])]\n",
    "       for y in np.arange(cards[1]) for z in np.arange(cards[2])]\n",
    "\n",
    "pcX /= #### YOUR CODE HERE ####\n",
    "\n",
    "print(pcX)"
   ]
  },
  {
   "cell_type": "markdown",
   "metadata": {},
   "source": [
    "\n",
    "The joint probability of $Y$ and $Z$ is obtained by <b>marginalization</b> as follows:\n"
   ]
  },
  {
   "cell_type": "code",
   "execution_count": null,
   "metadata": {},
   "outputs": [],
   "source": [
    "pYZ = #### YOUR CODE HERE ####\n",
    "\n",
    "print(pYZ)"
   ]
  },
  {
   "cell_type": "markdown",
   "metadata": {},
   "source": [
    "\n",
    "Similar to the previous case, the CPD of Y|Z is easily obtained:\n"
   ]
  },
  {
   "cell_type": "code",
   "execution_count": null,
   "metadata": {},
   "outputs": [],
   "source": [
    "pcY = [ [np.sum(p.loc[ np.logical_and(p.Y==y,p.Z==z),\n",
    "                      'Pr']) for y in np.arange(cards[1])]\n",
    "       for z in np.arange(cards[2])]\n",
    "\n",
    "pcY /= #### YOUR CODE HERE ####\n",
    "\n",
    "print(pcY)"
   ]
  },
  {
   "cell_type": "markdown",
   "metadata": {},
   "source": [
    "\n",
    "And, again, the probability distribution of $Z$ is obtained by <b>marginalization</b>:\n"
   ]
  },
  {
   "cell_type": "code",
   "execution_count": null,
   "metadata": {},
   "outputs": [],
   "source": [
    "pZ = #### YOUR CODE HERE ####\n",
    "\n",
    "print(pZ)"
   ]
  },
  {
   "cell_type": "markdown",
   "metadata": {},
   "source": [
    "\n",
    "The same probability for a given assignment is obtained using both the joint probability distribution saved in a large table ($p$) or combining the CPDs by means of the chain rule. Let us see an example with the instantiation $(X=1,Y=1,Z=1)$. In the first case, it is quite straightforward. In the second case, the joint assignment of value to the parents (when these are multiple) must be carefully indexed:\n"
   ]
  },
  {
   "cell_type": "code",
   "execution_count": null,
   "metadata": {},
   "outputs": [],
   "source": [
    "print('Probability of (1,1,1), p(X=1,Y=1,Z=1) =', \n",
    "      np.round(float(p.loc[(p['X'] == 1) & (p['Y'] == 1) & (p['Z'] == 1),'Pr']),3))\n",
    "\n",
    "print('Probability of (1,1,1), p(X=1,Y=1,Z=1) =', \n",
    "      np.round(float(\n",
    "          pcX[cards[2]*1+1,1] *\n",
    "          pcY[1,1] * \n",
    "          pZ.loc[1,'Pr']),3))"
   ]
  },
  {
   "cell_type": "markdown",
   "metadata": {},
   "source": [
    "\n",
    "It is your turn. Calculate $p(X=0,Y=1,Z=2)$:\n"
   ]
  },
  {
   "cell_type": "code",
   "execution_count": null,
   "metadata": {},
   "outputs": [],
   "source": [
    "print('Probability of (0,1,2), p(X=0,Y=1,Z=2) =', #### YOUR CODE HERE ####\n",
    "      )\n",
    "\n",
    "print('Probability of (0,1,2), p(X=0,Y=1,Z=2) =', #### YOUR CODE HERE ####\n",
    "     )"
   ]
  },
  {
   "cell_type": "markdown",
   "metadata": {},
   "source": [
    "\n",
    "and $p(X=2,Y=0,Z=2)$:\n"
   ]
  },
  {
   "cell_type": "code",
   "execution_count": null,
   "metadata": {},
   "outputs": [],
   "source": [
    "print('Probability of (2,0,2), p(X=2,Y=0,Z=2) =', #### YOUR CODE HERE ####\n",
    "      )\n",
    "\n",
    "print('Probability of (2,0,2), p(X=2,Y=0,Z=2) =', #### YOUR CODE HERE ####\n",
    "     )"
   ]
  },
  {
   "cell_type": "markdown",
   "metadata": {},
   "source": [
    "\n",
    "However, note that the number of parameters is not reduced:\n"
   ]
  },
  {
   "cell_type": "code",
   "execution_count": null,
   "metadata": {},
   "outputs": [],
   "source": [
    "print('Number of sufficient statistics in the joint probability p :', p.shape[0]-1)\n",
    "print('Total number of parameters when using the chain rule :', \n",
    "      (pcX.shape[0]*(cards[0]-1) + pcY.shape[0]*(cards[1]-1)+ pZ.shape[0]-1))\n",
    "print(' - Number of sufficient statistics in the CPDs p(X|Y,Z) :', pcX.shape[0]*(cards[0]-1))\n",
    "print(' - Number of sufficient statistics in the CPDs p(Y|Z) :', pcY.shape[0]*(cards[1]-1))\n",
    "print(' - Number of sufficient statistics in the marginal distribution p(Z) :', pZ.shape[0]-1)\n"
   ]
  },
  {
   "cell_type": "markdown",
   "metadata": {},
   "source": [
    "\n",
    "The real advantage of PGMs regarding the reduction into the number of parameters comes from the consideration of (conditional) independencies between variables. \n"
   ]
  },
  {
   "cell_type": "code",
   "execution_count": null,
   "metadata": {},
   "outputs": [],
   "source": []
  }
 ],
 "metadata": {
  "kernelspec": {
   "display_name": "Python 3",
   "language": "python",
   "name": "python3"
  },
  "language_info": {
   "codemirror_mode": {
    "name": "ipython",
    "version": 3
   },
   "file_extension": ".py",
   "mimetype": "text/x-python",
   "name": "python",
   "nbconvert_exporter": "python",
   "pygments_lexer": "ipython3",
   "version": "3.5.6"
  }
 },
 "nbformat": 4,
 "nbformat_minor": 2
}
