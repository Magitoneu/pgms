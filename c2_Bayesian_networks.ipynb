{
 "cells": [
  {
   "cell_type": "markdown",
   "metadata": {},
   "source": [
    "# Bayesian networks\n",
    "\n",
    "In this notebook you will know the <b>pgmpy</b> (https://github.com/pgmpy/pgmpy) library for the construction of Bayesian networks.\n",
    "\n",
    "Let us start with pgmpy. First of all, we need to import the necessary functions:\n"
   ]
  },
  {
   "cell_type": "code",
   "execution_count": null,
   "metadata": {},
   "outputs": [],
   "source": [
    "from pgmpy.factors.discrete import TabularCPD\n",
    "from pgmpy.models import BayesianModel"
   ]
  },
  {
   "cell_type": "markdown",
   "metadata": {},
   "source": [
    "## Setting up your model\n",
    "\n",
    "We will use the following DAG structure:\n",
    "\n",
    "<img src=\"images/olympicsTrials.png\" style=\"width:200px\" />\n",
    "\n",
    "A BN is composed by a DAG structure and the CPDs. We need to codify both elements.\n",
    "\n",
    "### Set the structure\n",
    "\n",
    "First of all, we need to specify that we are constructing a Bayesian network with a set of edges as follow:"
   ]
  },
  {
   "cell_type": "code",
   "execution_count": null,
   "metadata": {},
   "outputs": [],
   "source": [
    "olympic_model = BayesianModel([('Genetics', 'Trials'),\n",
    "                             ('Practice', 'Trials'),\n",
    "                             ()]) #### YOUR CODE HERE ####"
   ]
  },
  {
   "cell_type": "markdown",
   "metadata": {},
   "source": [
    "With this simple code, we specify that there are four variables and that the directed edges are <i>Genetics => Trials</i>,  <i>Practice => Trials</i> and <i>Trials => Offer</i>.\n",
    "\n",
    "One can easily infer the corresponding factorization:\n",
    "\n",
    "$$p(G,P,T,O)=p(G)p(P)p(T|G,P)p(O|T)$$\n",
    "\n",
    "### Set up the conditional probability distributions (CPDs)\n",
    "\n",
    "Once the structure has been defined, we codify the respective probability distributions. \n",
    "\n",
    "Firstly, the <i>Genetics</i> and <i>Practice</i> variables do not have any parent and the corresponding distributions are marginal probability distributions. <i>Genetics</i> takes two possible values with the following probability distribution:"
   ]
  },
  {
   "cell_type": "code",
   "execution_count": null,
   "metadata": {},
   "outputs": [],
   "source": [
    "genetics_cpd = TabularCPD(\n",
    "                variable = 'Genetics',\n",
    "                variable_card = 2,\n",
    "                values = [[.2,.8]])"
   ]
  },
  {
   "cell_type": "markdown",
   "metadata": {},
   "source": [
    "\n",
    "<i>Practice</i> also takes two possible values with probability $0.7$ and $0.3$, respectively:"
   ]
  },
  {
   "cell_type": "code",
   "execution_count": null,
   "metadata": {},
   "outputs": [],
   "source": [
    "practice_cpd = TabularCPD(\n",
    "                variable = 'Practice', \n",
    "                variable_card = ,#### YOUR CODE HERE ####\n",
    "                values = )       #### YOUR CODE HERE ####"
   ]
  },
  {
   "cell_type": "markdown",
   "metadata": {},
   "source": [
    "\n",
    "<i>Offer</i> and <i>Trials</i> do have parents and the corresponding distributions are conditional probability distributions. <i>Trials</i> takes three possible values and has both <i>Genetics</i> and <i>Practice</i> as parents:\n"
   ]
  },
  {
   "cell_type": "code",
   "execution_count": null,
   "metadata": {},
   "outputs": [],
   "source": [
    "trials_cpd = TabularCPD(\n",
    "                        variable = 'Trials', \n",
    "                        variable_card = 3,\n",
    "                        values = [[.50, .80, .80, .90],\n",
    "                                  [.30, .15, .10, .08],\n",
    "                                  [.20, .05, .10, .02]],\n",
    "                        evidence = ['Genetics', 'Practice'],\n",
    "                        evidence_card = [2,2])"
   ]
  },
  {
   "cell_type": "markdown",
   "metadata": {},
   "source": [
    "\n",
    "<i>Offer</i> takes two possible values and has <i>Trials</i> as its only parent. The corresponding conditional probability distribution table is:\n",
    "\n",
    "T O | p\n",
    "----|-----\n",
    "1 1 | 0.95\n",
    "1 2 | 0.05\n",
    "2 1 | 0.80\n",
    "2 2 | 0.20\n",
    "3 1 | 0.50\n",
    "3 2 | 0.50\n"
   ]
  },
  {
   "cell_type": "code",
   "execution_count": null,
   "metadata": {},
   "outputs": [],
   "source": [
    "offer_cpd = TabularCPD(\n",
    "                    variable = 'Offer',\n",
    "                    variable_card = 2,\n",
    "                    values = [[], #### YOUR CODE HERE ####\n",
    "                              []],\n",
    "                    evidence = ['Trials'],\n",
    "                    evidence_card = [3])"
   ]
  },
  {
   "cell_type": "markdown",
   "metadata": {},
   "source": [
    "\n",
    "Once the CPDs are defined, we only have to include them into the model:\n"
   ]
  },
  {
   "cell_type": "code",
   "execution_count": null,
   "metadata": {},
   "outputs": [],
   "source": [
    "olympic_model.add_cpds (genetics_cpd, practice_cpd, offer_cpd, trials_cpd)"
   ]
  },
  {
   "cell_type": "markdown",
   "metadata": {},
   "source": [
    "\n",
    "Let us examine our model:\n"
   ]
  },
  {
   "cell_type": "code",
   "execution_count": null,
   "metadata": {},
   "outputs": [],
   "source": [
    "olympic_model.get_cpds()"
   ]
  },
  {
   "cell_type": "markdown",
   "metadata": {},
   "source": [
    "## Using the model\n",
    "\n",
    "We have already built our model. It is time to use it!\n",
    "\n",
    "We can find <b>active trails</b> in the model that show the flows of probabilistic influence. For example, we can see that, when no variable is observed, the active trail related with <i>Genetics</i> is:"
   ]
  },
  {
   "cell_type": "code",
   "execution_count": null,
   "metadata": {},
   "outputs": [],
   "source": [
    "olympic_model.active_trail_nodes('Genetics')"
   ]
  },
  {
   "cell_type": "markdown",
   "metadata": {},
   "source": [
    "\n",
    "However, if variable <i>Offer</i> is observed, the active trail associated to <i>Genetics</i> is: \n"
   ]
  },
  {
   "cell_type": "code",
   "execution_count": null,
   "metadata": {},
   "outputs": [],
   "source": [
    "olympic_model.active_trail_nodes('Genetics', observed='Offer')"
   ]
  },
  {
   "cell_type": "markdown",
   "metadata": {},
   "source": [
    "\n",
    "We can want to find the local <b>independencies</b> in the model associated to variable <i>Genetics</i>:\n"
   ]
  },
  {
   "cell_type": "code",
   "execution_count": null,
   "metadata": {},
   "outputs": [],
   "source": [
    "olympic_model.local_independencies('Genetics')"
   ]
  },
  {
   "cell_type": "markdown",
   "metadata": {},
   "source": [
    "\n",
    "Regarding the variable <i>Trials</i>, the list of independencies is empty:\n"
   ]
  },
  {
   "cell_type": "code",
   "execution_count": null,
   "metadata": {},
   "outputs": [],
   "source": [
    "olympic_model.local_independencies('Trials')"
   ]
  },
  {
   "cell_type": "markdown",
   "metadata": {},
   "source": [
    "\n",
    "We can simply find for all the independencies present in our model as follow:\n"
   ]
  },
  {
   "cell_type": "code",
   "execution_count": null,
   "metadata": {},
   "outputs": [],
   "source": [
    "olympic_model.get_independencies()"
   ]
  },
  {
   "cell_type": "markdown",
   "metadata": {},
   "source": [
    "\n",
    "Note that some of them are repeated. Probably because it looks for the independencies of all the variables one by one.\n"
   ]
  },
  {
   "cell_type": "markdown",
   "metadata": {},
   "source": [
    "## Making inference\n",
    "\n",
    "Later in this course, we will know different approaches for inference in PGMs. However, let us consider the approach known as <i>Variable Elimination</i> to observe how the different reasoning patterns work.\n",
    "\n",
    "We can do probability propagation even when no information is observed:\n"
   ]
  },
  {
   "cell_type": "code",
   "execution_count": null,
   "metadata": {},
   "outputs": [],
   "source": [
    "from pgmpy.inference import VariableElimination\n",
    "olympic_infer = VariableElimination(olympic_model)"
   ]
  },
  {
   "cell_type": "markdown",
   "metadata": {},
   "source": [
    "\n",
    "We can get probability distributions that are not explicitly spelled out in our graph, as the marginal probability distribution of the variable <i>Offer</i>:\n"
   ]
  },
  {
   "cell_type": "code",
   "execution_count": null,
   "metadata": {},
   "outputs": [],
   "source": [
    "prob_offer = olympic_infer.query(variables = ['Offer'])\n",
    "print(prob_offer['Offer'])"
   ]
  },
  {
   "cell_type": "markdown",
   "metadata": {},
   "source": [
    "\n",
    "or the marginal probability distribution of the variable <i>Trials</i>:\n"
   ]
  },
  {
   "cell_type": "code",
   "execution_count": null,
   "metadata": {},
   "outputs": [],
   "source": [
    "prob_trials = olympic_infer.query(variables = ['Trials'])\n",
    "print(prob_trials['Trials'])"
   ]
  },
  {
   "cell_type": "markdown",
   "metadata": {},
   "source": [
    "\n",
    "But, the most common use is to propagate the observation of some variables. We can calculate the marginal probability of variable <i>Offer</i> given that the observed individual has no favorable genetics:\n"
   ]
  },
  {
   "cell_type": "code",
   "execution_count": null,
   "metadata": {},
   "outputs": [],
   "source": [
    "prob_offer_bad_genes = olympic_infer.query(\n",
    "                                        variables = ['Offer'], \n",
    "                                        evidence = {'Genetics':1})\n",
    "print(prob_offer_bad_genes['Offer'])"
   ]
  },
  {
   "cell_type": "markdown",
   "metadata": {},
   "source": [
    "\n",
    "The probability of obtaining an offer increases when the individual has good genetics and does practice:\n"
   ]
  },
  {
   "cell_type": "code",
   "execution_count": null,
   "metadata": {},
   "outputs": [],
   "source": [
    "prob_offer_good_genes_did_practice = olympic_infer.query(\n",
    "                                        variables = ['Offer'], \n",
    "                                        evidence = {}) #### YOUR CODE HERE ####\n",
    "print(prob_offer_good_genes_did_practice['Offer'])"
   ]
  },
  {
   "cell_type": "markdown",
   "metadata": {},
   "source": [
    "\n",
    "These two queries are examples of <b>causal reasoning</b>.\n",
    "\n",
    "We can also go upstream logically as in <b>evidential reasoning</b>. For example, evidence about a great performance at the Olympic trials affects the probability distribution of <i>Genetics</i> variable:\n"
   ]
  },
  {
   "cell_type": "code",
   "execution_count": null,
   "metadata": {},
   "outputs": [],
   "source": [
    "prob_good_genes_if_amazing_olympic_trials = olympic_infer.query(\n",
    "                                        variables = ['Genetics'], \n",
    "                                        evidence = {'Trials':2})\n",
    "print(prob_good_genes_if_amazing_olympic_trials['Genetics'])"
   ]
  },
  {
   "cell_type": "markdown",
   "metadata": {},
   "source": [
    "\n",
    "Finally, the <b>intercausal reasoning</b> is related with the study of two variables that are parents of a third variables (v-structure of <i>Genetics => Trial <= Practice</i>). If we have evidence only about one of the parents, as they are independent, that evidence would have no effect on the probability distribution of the other variable. \n",
    "\n",
    "Once the variable <i>Trial</i> is also observed, both parents become dependent and the evidence about <i>Practice</i> does affect the marginal probability distribution of <i>Genetics</i>:"
   ]
  },
  {
   "cell_type": "code",
   "execution_count": null,
   "metadata": {},
   "outputs": [],
   "source": [
    "prob_good_genes_if_no_practice = olympic_infer.query(\n",
    "                                        variables = ['Genetics'], \n",
    "                                        evidence = {'Practice':1})\n",
    "print(prob_good_genes_if_no_practice['Genetics'])\n",
    "\n",
    "prob_good_genes_if_no_practice_and_great_perf = olympic_infer.query(\n",
    "                                        variables = ['Genetics'], \n",
    "                                        evidence = {'Practice':1,'Trials':2})\n",
    "print(prob_good_genes_if_no_practice_and_great_perf['Genetics'])"
   ]
  },
  {
   "cell_type": "markdown",
   "metadata": {},
   "source": [
    "\n",
    "As one can imagine, if someone performs great in the Olympic trials withtout practice, that person must have very favorable genetics!\n"
   ]
  },
  {
   "cell_type": "markdown",
   "metadata": {},
   "source": [
    "<hr />\n",
    "\n",
    "## Exercices\n",
    "\n",
    "- Which is the probability of having a regular-performance trial for someone that does practice but has not appropriate genetics?\n",
    "\n",
    "- Which is the probability of receiving an offer just having good genetics? And having bad genetics?\n",
    "\n",
    "- Which is the probability of requiring large practice for having a great performance in the Trials without appropriate genetics?"
   ]
  },
  {
   "cell_type": "code",
   "execution_count": null,
   "metadata": {},
   "outputs": [],
   "source": []
  }
 ],
 "metadata": {
  "kernelspec": {
   "display_name": "Python 3",
   "language": "python",
   "name": "python3"
  },
  "language_info": {
   "codemirror_mode": {
    "name": "ipython",
    "version": 3
   },
   "file_extension": ".py",
   "mimetype": "text/x-python",
   "name": "python",
   "nbconvert_exporter": "python",
   "pygments_lexer": "ipython3",
   "version": "3.5.6"
  },
  "widgets": {
   "state": {},
   "version": "1.1.1"
  }
 },
 "nbformat": 4,
 "nbformat_minor": 1
}
