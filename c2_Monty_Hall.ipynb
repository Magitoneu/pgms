{
 "cells": [
  {
   "cell_type": "markdown",
   "metadata": {},
   "source": [
    "<center><h1>C2: Monty Hall Problem</h1></center>\n",
    "\n",
    "The Monty Hall Problem (https://en.wikipedia.org/wiki/Monty_Hall_problem) is a very famous problem in Probability Theory. \n",
    "\n",
    "\n",
    "The problem can be described as follow:\n",
    "\n",
    "Suppose that you are on a game show where you can win a car if you find behind which door it is. There are three doors (\"\\{0,1,2\\}\") and only behind one of them there is a car; behind the others, there is a goat. \n",
    "\n",
    "<img src=\"https://upload.wikimedia.org/wikipedia/commons/thumb/3/3f/Monty_open_door.svg/1000px-Monty_open_door.svg.png\" style=\"width:600px\"/>\n",
    "\n",
    "You have to options to pick a door. Firsly, you have to decide among all three doors. You pick one of them, say Door #1, and the host, who knows where the car is, opens another door, say Door #0, which has a goat. Then you have the option to choose again. The host asks to you: \"Do you want to keep Door #1 or would you prefer changing to Door #2?\"\n",
    "\n",
    "The question is therefore: according to the available information, should the player change her mind?"
   ]
  },
  {
   "cell_type": "markdown",
   "metadata": {},
   "source": [
    "<h2>A PGM's answer:</h2>\n",
    "\n",
    "Let us model this problem by means of a Bayesian network:"
   ]
  },
  {
   "cell_type": "code",
   "execution_count": null,
   "metadata": {},
   "outputs": [],
   "source": [
    "from pgmpy.models import BayesianModel\n",
    "from pgmpy.factors.discrete import TabularCPD"
   ]
  },
  {
   "cell_type": "markdown",
   "metadata": {},
   "source": [
    "We can identify 3 different random variables:\n",
    "\n",
    "- Prize position: $ P \\in \\{0, 1, 2 \\} $\n",
    "\n",
    "- Player's Answer: $ A \\in \\{0, 1, 2\\} $\n",
    "\n",
    "- Host's choice: $ H \\in \\{0, 1, 2\\} $\n",
    "\n",
    "where each possible value in $P$, $A$ and $H$ identifies a door. \n",
    "\n",
    "We can safely assume that the prize has been put behind a door without any specific criteria. Therefore, the probability distribution is uniform:"
   ]
  },
  {
   "cell_type": "code",
   "execution_count": null,
   "metadata": {},
   "outputs": [],
   "source": [
    "cpd_p = TabularCPD('P', 3, [[-0.0, -0.0, -0.0]]) # Set the probability values that correspond"
   ]
  },
  {
   "cell_type": "markdown",
   "metadata": {},
   "source": [
    "\n",
    "Similarly, the player, without any knowledge, is probably making her first choice randomly:\n"
   ]
  },
  {
   "cell_type": "code",
   "execution_count": null,
   "metadata": {},
   "outputs": [],
   "source": [
    "cpd_a = TabularCPD('A', 3, [[-0.0, -0.0, -0.0]]) # Set the probability values that correspond"
   ]
  },
  {
   "cell_type": "markdown",
   "metadata": {},
   "source": [
    "\n",
    "Note that the host makes his decision when the player already said her first choice (and knowing where the car is). Thus, his choice depends on both the prize position and the player's choice:\n",
    "\n",
    "<img src=\"images/bn_monty_hall.png\"/>\n"
   ]
  },
  {
   "cell_type": "code",
   "execution_count": null,
   "metadata": {},
   "outputs": [],
   "source": [
    "# Defining the network structure\n",
    "model = BayesianModel([('A', 'H'), ('P', 'H')]) # A is a parent of H, P is a parent of H"
   ]
  },
  {
   "cell_type": "markdown",
   "metadata": {},
   "source": [
    "The probability distribution of the remaining variable, the one modeling the behavior of the host can be inferred from the structure of the problem. The host chooses a door different from the player which does not have the prize and opens it. With this information, one can complete the table of probabilities-parameters of this BN:\n",
    "\n",
    "<pre>\n",
    "+---+---+---+----------+\n",
    "| A | P | H | p(H|A,P) |\n",
    "+---+---+---+----------+\n",
    "| 0 | 0 | 0 | 0.0      |\n",
    "| 0 | 0 | 1 | 0.5      |\n",
    "| 0 | 0 | 2 | 0.5      |\n",
    "+---+---+---+----------+\n",
    "| 0 | 1 | 0 | 0.0      |\n",
    "| 0 | 1 | 1 | 0.0      |\n",
    "| 0 | 1 | 2 | 1.0      |\n",
    "+---+---+---+----------+\n",
    "| 0 | 2 | 0 | 0.0      |\n",
    "| 0 | 2 | 1 | 1.0      |\n",
    "| 0 | 2 | 2 | 0.0      |\n",
    "+---+---+---+----------+\n",
    "| A | P | H | p(H|A,P) |\n",
    "+---+---+---+----------+\n",
    "| 1 | 0 | 0 | 0.0      |\n",
    "| 1 | 0 | 1 | 0.0      |\n",
    "| 1 | 0 | 2 | 1.0      |\n",
    "+---+---+---+----------+\n",
    "| 1 | 1 | 0 | 0.5      |\n",
    "| 1 | 1 | 1 | 0.0      |\n",
    "| 1 | 1 | 2 | 0.5      |\n",
    "+---+---+---+----------+\n",
    "| 1 | 2 | 0 | 1.0      |\n",
    "| 1 | 2 | 1 | 0.0      |\n",
    "| 1 | 2 | 2 | 0.0      |\n",
    "+---+---+---+----------+\n",
    "| A | P | H | p(H|A,P) |\n",
    "+---+---+---+----------+\n",
    "| 2 | 0 | 0 | 0.0      |\n",
    "| 2 | 0 | 1 | 1.0      |\n",
    "| 2 | 0 | 2 | 0.0      |\n",
    "+---+---+---+----------+\n",
    "| 2 | 1 | 0 | 1.0      |\n",
    "| 2 | 1 | 1 | 0.0      |\n",
    "| 2 | 1 | 2 | 0.0      |\n",
    "+---+---+---+----------+\n",
    "| 2 | 2 | 0 | 0.5      |\n",
    "| 2 | 2 | 1 | 0.5      |\n",
    "| 2 | 2 | 2 | 0.0      |\n",
    "+---+---+---+----------+\n",
    "</pre>"
   ]
  },
  {
   "cell_type": "code",
   "execution_count": null,
   "metadata": {},
   "outputs": [],
   "source": [
    "# Defining the CPDs:\n",
    "cpd_h = TabularCPD('H', 3, [[0.0, 0.0, 0.0, 0.0, 0.5, 1.0, -0.0, -0.0, -0.0], #complete the last part of the table\n",
    "                            [0.5, 0.0, 1.0, 0.0, 0.0, 0.0, -0.0, -0.0, -0.0], \n",
    "                            [0.5, 1.0, 0.0, 1.0, 0.5, 0.0, -0.0, -0.0, -0.0]],\n",
    "                  evidence=['A', 'P'], evidence_card=[3, 3])\n",
    "\n",
    "# Associating the CPDs with the network structure\n",
    "model.add_cpds(cpd_a, cpd_p, cpd_h)"
   ]
  },
  {
   "cell_type": "markdown",
   "metadata": {},
   "source": [
    "\n",
    "Once the BN is built, we can check if everything is ok:\n"
   ]
  },
  {
   "cell_type": "code",
   "execution_count": null,
   "metadata": {},
   "outputs": [],
   "source": [
    "# Some other methods\n",
    "print(model.get_cpds())\n",
    "\n",
    "# check the model structure and the associated CPD \n",
    "print(model.check_model())"
   ]
  },
  {
   "cell_type": "markdown",
   "metadata": {},
   "source": [
    "\n",
    "Now we have modeled our world. Let's see what happens when we put it to work:\n",
    "\n",
    "Let's say that the player selects Door #0 and, in turn, the host opens Door #2. Basic intuition probably says that the player has again a choice among two possible choices, and these are equally probable to hide the prize. But, is this intuition right? \n",
    "\n",
    "Let's calculate the probability of the prize location, i.e., $P(P | A=0, H=2)$. To do so, we need to use inference techniques:"
   ]
  },
  {
   "cell_type": "code",
   "execution_count": null,
   "metadata": {},
   "outputs": [],
   "source": [
    "# Infering the posterior probability \n",
    "from pgmpy.inference import VariableElimination\n",
    "\n",
    "infer = VariableElimination(model)\n",
    "\n",
    "posterior_p = infer.query(['P'], evidence={'A': 0, 'H': 2})\n",
    "\n",
    "print(posterior_p['P'])"
   ]
  },
  {
   "cell_type": "markdown",
   "metadata": {},
   "source": [
    "Note that the posterior probability of having the prize behind Door #1 is larger than behind Door #0. In this problem, if we take into account all the available information (including that given when the host selects a specific door), we can see that the best possible action is to change the initially selected door.\n",
    "\n",
    "You can try changing the values of $A$ and $H$ (with the only condition that they cannot be the same) and you will realize that this conclusion holds for all the possible cases.\n",
    "\n",
    "<hr/>\n",
    "\n",
    "One final <b>question</b>, regarding the different types of reasoning pattern studied in this subject, which one fits better with the kind of reasoning that we are implementing in this solution for the Monty Hall problem?"
   ]
  },
  {
   "cell_type": "code",
   "execution_count": null,
   "metadata": {},
   "outputs": [],
   "source": []
  }
 ],
 "metadata": {
  "anaconda-cloud": {},
  "kernelspec": {
   "display_name": "Python 3",
   "language": "python",
   "name": "python3"
  },
  "language_info": {
   "codemirror_mode": {
    "name": "ipython",
    "version": 3
   },
   "file_extension": ".py",
   "mimetype": "text/x-python",
   "name": "python",
   "nbconvert_exporter": "python",
   "pygments_lexer": "ipython3",
   "version": "3.5.6"
  }
 },
 "nbformat": 4,
 "nbformat_minor": 1
}
